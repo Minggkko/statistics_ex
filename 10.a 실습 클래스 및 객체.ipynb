{
 "cells": [
  {
   "cell_type": "markdown",
   "id": "c1e9fb4f-95d2-4a6d-a151-3aef69aa0485",
   "metadata": {},
   "source": [
    "# 파이썬 객체 지향"
   ]
  },
  {
   "cell_type": "markdown",
   "id": "caf4f1de-50cd-4f5a-8eb5-9d21852f84bd",
   "metadata": {},
   "source": [
    "- 클래스 : 객체의 설계도\n",
    "- 객체 : 클래스의 인스턴스, 클래스 메모리에 생성된 상태"
   ]
  },
  {
   "cell_type": "code",
   "execution_count": 4,
   "id": "f938e3fe-dd09-43e4-93b2-3eaaf07069de",
   "metadata": {},
   "outputs": [],
   "source": [
    "#class 이름 :\n",
    "    #속성1 # 클래스 내의 변수\n",
    "    #속성 2\n",
    "\n",
    "    #매서드 #클래스 내의 함수"
   ]
  },
  {
   "cell_type": "code",
   "execution_count": 19,
   "id": "c6c97529-ab86-47cb-98cb-ddb1a202950e",
   "metadata": {},
   "outputs": [],
   "source": [
    "class product:\n",
    "    # 생성자\n",
    "    def __init__(self, sku, name, price,color):\n",
    "        self.sku = sku\n",
    "        self.name = name\n",
    "        self.price = price\n",
    "        self.color = color\n",
    "    "
   ]
  },
  {
   "cell_type": "code",
   "execution_count": 21,
   "id": "6c6370e1-92b2-4ebd-9ff8-c28919ced5a1",
   "metadata": {},
   "outputs": [
    {
     "data": {
      "text/plain": [
       "<__main__.product at 0x234b6d55120>"
      ]
     },
     "execution_count": 21,
     "metadata": {},
     "output_type": "execute_result"
    }
   ],
   "source": [
    "#클래스의 인스턴스 <- 객체\n",
    "apple = product(100, \"apple\", 10000, \"white\")\n",
    "apple"
   ]
  },
  {
   "cell_type": "code",
   "execution_count": 29,
   "id": "d81ced36-b841-4346-a84f-b1cd32ef22ae",
   "metadata": {},
   "outputs": [
    {
     "data": {
      "text/plain": [
       "'white'"
      ]
     },
     "execution_count": 29,
     "metadata": {},
     "output_type": "execute_result"
    }
   ],
   "source": [
    "apple.color"
   ]
  },
  {
   "cell_type": "code",
   "execution_count": 24,
   "id": "1a5e1592-aedb-45fa-b284-c73afe29b5cb",
   "metadata": {},
   "outputs": [],
   "source": [
    "samsung1 = product(300, 'smasung', 30000, \"blue\")"
   ]
  },
  {
   "cell_type": "code",
   "execution_count": 25,
   "id": "11a2b0ef-2bfe-4c46-8a83-5287a6dfac20",
   "metadata": {},
   "outputs": [
    {
     "data": {
      "text/plain": [
       "300"
      ]
     },
     "execution_count": 25,
     "metadata": {},
     "output_type": "execute_result"
    }
   ],
   "source": [
    "samsung1.sku"
   ]
  },
  {
   "cell_type": "code",
   "execution_count": 26,
   "id": "610e82bc-cbe5-4edc-a8e4-50839dfdac6b",
   "metadata": {},
   "outputs": [
    {
     "data": {
      "text/plain": [
       "'smasung'"
      ]
     },
     "execution_count": 26,
     "metadata": {},
     "output_type": "execute_result"
    }
   ],
   "source": [
    "samsung1.name"
   ]
  },
  {
   "cell_type": "code",
   "execution_count": 27,
   "id": "f20f87bd-4a83-42ce-8daa-205f05f21bad",
   "metadata": {},
   "outputs": [],
   "source": [
    "samsung2 = product(302, 'samsung2', 50000,\"green\")"
   ]
  },
  {
   "cell_type": "code",
   "execution_count": 28,
   "id": "ae9fd8d4-4758-482c-884b-039b9dbec0a1",
   "metadata": {},
   "outputs": [
    {
     "data": {
      "text/plain": [
       "'samsung2'"
      ]
     },
     "execution_count": 28,
     "metadata": {},
     "output_type": "execute_result"
    }
   ],
   "source": [
    "samsung2.name"
   ]
  },
  {
   "cell_type": "markdown",
   "id": "ca9cd79c-adc1-4447-89ab-8c396015c8b5",
   "metadata": {},
   "source": [
    "## 클래스의 매서드"
   ]
  },
  {
   "cell_type": "code",
   "execution_count": 64,
   "id": "ea2515a3-4d50-4dc4-b110-f9c504efea2b",
   "metadata": {},
   "outputs": [],
   "source": [
    "class CartItem:\n",
    "    #생성자 함수\n",
    "    def __init__(self, product, quantity):\n",
    "        self.product = product\n",
    "        self.quantity = quantity\n",
    "        \n",
    "\n",
    "     # 매서드 정의(동작)\n",
    "    def total_price(self):\n",
    "            return self.product.price * self.quantity"
   ]
  },
  {
   "cell_type": "code",
   "execution_count": 65,
   "id": "972dd447-9fed-487c-b158-f19312af5c46",
   "metadata": {},
   "outputs": [
    {
     "data": {
      "text/plain": [
       "100"
      ]
     },
     "execution_count": 65,
     "metadata": {},
     "output_type": "execute_result"
    }
   ],
   "source": [
    "apple.sku"
   ]
  },
  {
   "cell_type": "code",
   "execution_count": 66,
   "id": "32314d7e-ebd4-44ee-b8a1-75582e111d17",
   "metadata": {},
   "outputs": [],
   "source": [
    "#cartitem 인스턴스 생성(객체)\n",
    "#apple을 3개로 객체 생성\n",
    "item = CartItem(apple, 3)\n"
   ]
  },
  {
   "cell_type": "code",
   "execution_count": 67,
   "id": "7727676e-4198-4055-9e05-4ba3f4cdcce5",
   "metadata": {},
   "outputs": [
    {
     "data": {
      "text/plain": [
       "'apple'"
      ]
     },
     "execution_count": 67,
     "metadata": {},
     "output_type": "execute_result"
    }
   ],
   "source": [
    "#item안에 있는 apple1 프로덕트의 이름 출력\n",
    "item.product.name"
   ]
  },
  {
   "cell_type": "code",
   "execution_count": 68,
   "id": "6aa31795-abef-415d-a027-d6296186abb3",
   "metadata": {},
   "outputs": [
    {
     "data": {
      "text/plain": [
       "'white'"
      ]
     },
     "execution_count": 68,
     "metadata": {},
     "output_type": "execute_result"
    }
   ],
   "source": [
    "#item안에 있는 apple 프로덕트의 색깔을 출력\n",
    "item.product.color"
   ]
  },
  {
   "cell_type": "code",
   "execution_count": 69,
   "id": "a84e4df6-1d0d-4e44-8115-937486b50bf5",
   "metadata": {},
   "outputs": [
    {
     "data": {
      "text/plain": [
       "3"
      ]
     },
     "execution_count": 69,
     "metadata": {},
     "output_type": "execute_result"
    }
   ],
   "source": [
    "#item안에 있는 apple 프로덕트의 갯수를 출력\n",
    "item.quantity"
   ]
  },
  {
   "cell_type": "code",
   "execution_count": 71,
   "id": "c39f3d76-8694-41e0-9707-6e3fe0c7c060",
   "metadata": {},
   "outputs": [
    {
     "data": {
      "text/plain": [
       "30000"
      ]
     },
     "execution_count": 71,
     "metadata": {},
     "output_type": "execute_result"
    }
   ],
   "source": [
    "# 객체의 매서드 호출\n",
    "item.total_price()"
   ]
  },
  {
   "cell_type": "code",
   "execution_count": null,
   "id": "8e67c592-2104-4d74-8640-b7eba32936b9",
   "metadata": {},
   "outputs": [],
   "source": []
  }
 ],
 "metadata": {
  "kernelspec": {
   "display_name": "eda_env",
   "language": "python",
   "name": "eda_env"
  },
  "language_info": {
   "codemirror_mode": {
    "name": "ipython",
    "version": 3
   },
   "file_extension": ".py",
   "mimetype": "text/x-python",
   "name": "python",
   "nbconvert_exporter": "python",
   "pygments_lexer": "ipython3",
   "version": "3.10.18"
  }
 },
 "nbformat": 4,
 "nbformat_minor": 5
}
