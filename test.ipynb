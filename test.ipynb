{
 "cells": [
  {
   "cell_type": "markdown",
   "id": "cfa040d0-62b4-4549-aa76-ae1c4cb57b0e",
   "metadata": {},
   "source": [
    "# 주피터 노트북 테스트"
   ]
  },
  {
   "cell_type": "code",
   "execution_count": 1,
   "id": "6661b501-0bf3-4cf2-9ce0-59c67ffd3092",
   "metadata": {},
   "outputs": [
    {
     "name": "stdout",
     "output_type": "stream",
     "text": [
      "hello\n"
     ]
    }
   ],
   "source": [
    "print(\"hello\")"
   ]
  },
  {
   "cell_type": "code",
   "execution_count": null,
   "id": "db68b518-4405-467f-ba95-eede01b0c1b1",
   "metadata": {},
   "outputs": [],
   "source": []
  }
 ],
 "metadata": {
  "kernelspec": {
   "display_name": "eda_env",
   "language": "python",
   "name": "eda_env"
  },
  "language_info": {
   "codemirror_mode": {
    "name": "ipython",
    "version": 3
   },
   "file_extension": ".py",
   "mimetype": "text/x-python",
   "name": "python",
   "nbconvert_exporter": "python",
   "pygments_lexer": "ipython3",
   "version": "3.10.18"
  }
 },
 "nbformat": 4,
 "nbformat_minor": 5
}
