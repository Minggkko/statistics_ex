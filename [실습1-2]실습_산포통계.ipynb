{
 "cells": [
  {
   "cell_type": "markdown",
   "id": "2cf42fde-4cec-4215-aaeb-6decf601f23e",
   "metadata": {},
   "source": [
    "# 산포통계"
   ]
  },
  {
   "cell_type": "markdown",
   "id": "8187f378-981f-4d2c-978c-86600334542e",
   "metadata": {},
   "source": [
    "## 분산 표준편차 구하기"
   ]
  },
  {
   "cell_type": "code",
   "execution_count": 1,
   "id": "7b4a530a-817d-4ac3-a53f-7bb90d0c260e",
   "metadata": {},
   "outputs": [],
   "source": [
    "import numpy as np\n",
    "from scipy import stats \n",
    "import pandas as pd"
   ]
  },
  {
   "cell_type": "code",
   "execution_count": 2,
   "id": "ba79e480-f860-4a42-b6d7-16f97868061a",
   "metadata": {},
   "outputs": [
    {
     "name": "stdout",
     "output_type": "stream",
     "text": [
      "2.5\n",
      "2.0\n",
      "2.0\n"
     ]
    }
   ],
   "source": [
    "# 분산계산\n",
    "x = [1,2,3,4,5] #데이터 가정\n",
    "print(np.var(x, ddof =1)) #분모 = n-1 (5-1), 표본\n",
    "print(np.array(x).var()) #분모 = n\n",
    "# 분모 = n, 자유도(ddof) 0 : 모분산인경우, 표본분산\n",
    "print(pd.Series(x).var(ddof = 0))\n"
   ]
  },
  {
   "cell_type": "code",
   "execution_count": 3,
   "id": "6db24dcf-4536-4f37-9e25-d3a43fb3e6b6",
   "metadata": {},
   "outputs": [
    {
     "name": "stdout",
     "output_type": "stream",
     "text": [
      "1.5811388300841898\n",
      "1.4142135623730951\n",
      "1.5811388300841898\n"
     ]
    }
   ],
   "source": [
    "# 표준편차 계산\n",
    "x = [1,2,3,4,5]\n",
    "print(np.std(x, ddof = 1))\n",
    "print(np.array(x).std(ddof = 0))\n",
    "print(pd.Series(x).std(ddof = 1))"
   ]
  },
  {
   "cell_type": "code",
   "execution_count": 5,
   "id": "2894517a-a6e8-40f4-9cbb-11978a8507cf",
   "metadata": {
    "scrolled": true
   },
   "outputs": [],
   "source": [
    "# 분산 계산식\n",
    "# sum(x_i - 평균)**2 / n <- 모집단 데이터의 분산 계산식\n",
    "# sum(x_i - 평균)**2 / (n-1) <- 표본데이터의 분산 계산식"
   ]
  },
  {
   "cell_type": "markdown",
   "id": "e2a826fe-9bd5-48a8-a2be-99268ba7d0f1",
   "metadata": {},
   "source": [
    "# 변동계수의 필요성\n",
    "- 분산과 표준편차 모두 값의 스케일에 크게 영향을 받아 상대적인 산포를 보여주는데 부적합함.\n",
    "- 변동 계수 = 표준편차 / 평균"
   ]
  },
  {
   "cell_type": "code",
   "execution_count": 6,
   "id": "1ce47894-1bb6-45c0-84ea-c85e1b6cc96f",
   "metadata": {},
   "outputs": [
    {
     "name": "stdout",
     "output_type": "stream",
     "text": [
      "1.5811388300841898\n",
      "15.811388300841896\n"
     ]
    }
   ],
   "source": [
    "x1 = np.array([1,2,3,4,5])\n",
    "x2 = x1 * 10\n",
    "\n",
    "print(np.std(x1, ddof = 1))\n",
    "print(np.std(x2, ddof = 1))"
   ]
  },
  {
   "cell_type": "code",
   "execution_count": 7,
   "id": "4ae0afd2-be98-429a-9c95-c8dd82f405da",
   "metadata": {},
   "outputs": [
    {
     "name": "stdout",
     "output_type": "stream",
     "text": [
      "0.47140452079103173\n",
      "0.4714045207910317\n"
     ]
    }
   ],
   "source": [
    "print(stats.variation(x1)) #변동계수\n",
    "print(stats.variation(x2))"
   ]
  },
  {
   "cell_type": "code",
   "execution_count": 9,
   "id": "f19e391f-6f97-4bbe-80d8-07bc6e280d16",
   "metadata": {},
   "outputs": [
    {
     "name": "stdout",
     "output_type": "stream",
     "text": [
      "0.5270462766947299\n",
      "0.5270462766947299\n"
     ]
    }
   ],
   "source": [
    "print(np.std(x1, ddof = 1)/ np.mean(x1))\n",
    "print(np.std(x2, ddof = 1)/ np.mean(x2))"
   ]
  },
  {
   "cell_type": "markdown",
   "id": "c8636048-5b7c-4961-977c-719d552b49db",
   "metadata": {},
   "source": [
    "# 스케일링\n",
    "- 둘 이상의 변수의 값을 상대적으로 비교할 때 사용"
   ]
  },
  {
   "cell_type": "code",
   "execution_count": 10,
   "id": "ebbcf1f2-a55d-4f68-900f-2ea7559060c3",
   "metadata": {},
   "outputs": [],
   "source": [
    "import numpy as np\n",
    "import pandas as pd"
   ]
  },
  {
   "cell_type": "code",
   "execution_count": 11,
   "id": "9f501bf8-64e3-4046-b3e7-fe58b472e50f",
   "metadata": {},
   "outputs": [],
   "source": [
    "x1 = np.array([1,2,3,4,5])\n",
    "x2 = x1 * 10"
   ]
  },
  {
   "cell_type": "code",
   "execution_count": 12,
   "id": "4373792a-f7f2-4d49-9971-bc2cf827b0a5",
   "metadata": {},
   "outputs": [
    {
     "data": {
      "text/plain": [
       "array([1, 2, 3, 4, 5])"
      ]
     },
     "execution_count": 12,
     "metadata": {},
     "output_type": "execute_result"
    }
   ],
   "source": [
    "x1"
   ]
  },
  {
   "cell_type": "code",
   "execution_count": 13,
   "id": "5b595c04-c91c-4eeb-a6f1-7896c9d00ac0",
   "metadata": {},
   "outputs": [
    {
     "data": {
      "text/plain": [
       "array([10, 20, 30, 40, 50])"
      ]
     },
     "execution_count": 13,
     "metadata": {},
     "output_type": "execute_result"
    }
   ],
   "source": [
    "x2"
   ]
  },
  {
   "cell_type": "code",
   "execution_count": 15,
   "id": "0b1f9ff8-e0bc-4485-99e8-e9a4dbd22332",
   "metadata": {},
   "outputs": [
    {
     "name": "stdout",
     "output_type": "stream",
     "text": [
      "[-1.41421356 -0.70710678  0.          0.70710678  1.41421356]\n",
      "[-1.41421356 -0.70710678  0.          0.70710678  1.41421356]\n"
     ]
    }
   ],
   "source": [
    "# standard Scaling\n",
    "z1 = (x1 - x1.mean()) / x1.std()\n",
    "z2 = (x2 - x2.mean()) / x2.std()\n",
    "\n",
    "print(z1)\n",
    "print(z2)"
   ]
  },
  {
   "cell_type": "code",
   "execution_count": 16,
   "id": "cde0470e-2146-4307-9417-3fd2c7c2fee3",
   "metadata": {},
   "outputs": [
    {
     "name": "stdout",
     "output_type": "stream",
     "text": [
      "[0.   0.25 0.5  0.75 1.  ]\n",
      "[0.   0.25 0.5  0.75 1.  ]\n"
     ]
    }
   ],
   "source": [
    "#Min-max Scaling\n",
    "z1 = (x1 - x1.min()) / (x1.max() - x1.min())\n",
    "z2 = (x2 - x2.min()) / (x2.max() - x2.min())\n",
    "\n",
    "print(z1)\n",
    "print(z2)"
   ]
  },
  {
   "cell_type": "markdown",
   "id": "ef07fd40-c872-4c5e-af0c-631c32e68dd5",
   "metadata": {},
   "source": [
    "# 데이터 프레임 만들기"
   ]
  },
  {
   "cell_type": "code",
   "execution_count": 14,
   "id": "45cd5c91-33d4-4338-8451-b3a7fdf991aa",
   "metadata": {},
   "outputs": [
    {
     "data": {
      "text/html": [
       "<div>\n",
       "<style scoped>\n",
       "    .dataframe tbody tr th:only-of-type {\n",
       "        vertical-align: middle;\n",
       "    }\n",
       "\n",
       "    .dataframe tbody tr th {\n",
       "        vertical-align: top;\n",
       "    }\n",
       "\n",
       "    .dataframe thead th {\n",
       "        text-align: right;\n",
       "    }\n",
       "</style>\n",
       "<table border=\"1\" class=\"dataframe\">\n",
       "  <thead>\n",
       "    <tr style=\"text-align: right;\">\n",
       "      <th></th>\n",
       "      <th>X1</th>\n",
       "      <th>X2</th>\n",
       "    </tr>\n",
       "  </thead>\n",
       "  <tbody>\n",
       "    <tr>\n",
       "      <th>0</th>\n",
       "      <td>1</td>\n",
       "      <td>10</td>\n",
       "    </tr>\n",
       "    <tr>\n",
       "      <th>1</th>\n",
       "      <td>2</td>\n",
       "      <td>20</td>\n",
       "    </tr>\n",
       "    <tr>\n",
       "      <th>2</th>\n",
       "      <td>3</td>\n",
       "      <td>30</td>\n",
       "    </tr>\n",
       "    <tr>\n",
       "      <th>3</th>\n",
       "      <td>4</td>\n",
       "      <td>40</td>\n",
       "    </tr>\n",
       "    <tr>\n",
       "      <th>4</th>\n",
       "      <td>5</td>\n",
       "      <td>50</td>\n",
       "    </tr>\n",
       "  </tbody>\n",
       "</table>\n",
       "</div>"
      ],
      "text/plain": [
       "   X1  X2\n",
       "0   1  10\n",
       "1   2  20\n",
       "2   3  30\n",
       "3   4  40\n",
       "4   5  50"
      ]
     },
     "execution_count": 14,
     "metadata": {},
     "output_type": "execute_result"
    }
   ],
   "source": [
    "# sklearn을 이용한 스케일링을 위한 데이터 준비\n",
    "import pandas as pd\n",
    "x= pd.DataFrame({\"X1\":[1,2,3,4,5], \"X2\":[10,20,30,40,50]})\n",
    "x\n"
   ]
  },
  {
   "cell_type": "markdown",
   "id": "b6d91e91-d9e3-4467-9c72-98c1414facf7",
   "metadata": {},
   "source": [
    "### scikit learn 을 활요한 데이터 표준화하기"
   ]
  },
  {
   "cell_type": "code",
   "execution_count": 15,
   "id": "3b99d583-1d88-44ca-b4d0-a4c523524493",
   "metadata": {},
   "outputs": [
    {
     "name": "stdout",
     "output_type": "stream",
     "text": [
      "Requirement already satisfied: scikit-learn in c:\\users\\admin\\miniconda3\\envs\\eda_env\\lib\\site-packages (1.7.2)\n",
      "Requirement already satisfied: numpy>=1.22.0 in c:\\users\\admin\\miniconda3\\envs\\eda_env\\lib\\site-packages (from scikit-learn) (2.2.6)\n",
      "Requirement already satisfied: scipy>=1.8.0 in c:\\users\\admin\\miniconda3\\envs\\eda_env\\lib\\site-packages (from scikit-learn) (1.15.3)\n",
      "Requirement already satisfied: joblib>=1.2.0 in c:\\users\\admin\\miniconda3\\envs\\eda_env\\lib\\site-packages (from scikit-learn) (1.5.2)\n",
      "Requirement already satisfied: threadpoolctl>=3.1.0 in c:\\users\\admin\\miniconda3\\envs\\eda_env\\lib\\site-packages (from scikit-learn) (3.6.0)\n"
     ]
    }
   ],
   "source": [
    "!pip install scikit-learn"
   ]
  },
  {
   "cell_type": "code",
   "execution_count": 16,
   "id": "e2b8a56c-ed53-4e3c-8c9e-9cf7fbf72d6c",
   "metadata": {},
   "outputs": [
    {
     "data": {
      "text/plain": [
       "<function dir>"
      ]
     },
     "execution_count": 16,
     "metadata": {},
     "output_type": "execute_result"
    }
   ],
   "source": [
    "dir"
   ]
  },
  {
   "cell_type": "code",
   "execution_count": 17,
   "id": "da6da45e-8c8c-4963-958f-e9094798c119",
   "metadata": {},
   "outputs": [],
   "source": [
    "#MinMaxScaler 메모리에 로딩\n",
    "from sklearn.preprocessing import MinMaxScaler"
   ]
  },
  {
   "cell_type": "code",
   "execution_count": 18,
   "id": "03886787-22ae-43d6-844c-ce65db7341f0",
   "metadata": {},
   "outputs": [],
   "source": [
    "# MinMaxScaler 객체 생성\n",
    "scaler =MinMaxScaler()\n",
    "scaled = scaler.fit_transform(x)\n"
   ]
  },
  {
   "cell_type": "code",
   "execution_count": 19,
   "id": "98cef584-64a3-4547-842d-a43602cd7b8e",
   "metadata": {},
   "outputs": [
    {
     "data": {
      "text/plain": [
       "array([[0.  , 0.  ],\n",
       "       [0.25, 0.25],\n",
       "       [0.5 , 0.5 ],\n",
       "       [0.75, 0.75],\n",
       "       [1.  , 1.  ]])"
      ]
     },
     "execution_count": 19,
     "metadata": {},
     "output_type": "execute_result"
    }
   ],
   "source": [
    "scaled"
   ]
  },
  {
   "cell_type": "code",
   "execution_count": 21,
   "id": "3a5ecb25-635d-49ca-956a-c62d91f38ed1",
   "metadata": {},
   "outputs": [
    {
     "data": {
      "text/html": [
       "<div>\n",
       "<style scoped>\n",
       "    .dataframe tbody tr th:only-of-type {\n",
       "        vertical-align: middle;\n",
       "    }\n",
       "\n",
       "    .dataframe tbody tr th {\n",
       "        vertical-align: top;\n",
       "    }\n",
       "\n",
       "    .dataframe thead th {\n",
       "        text-align: right;\n",
       "    }\n",
       "</style>\n",
       "<table border=\"1\" class=\"dataframe\">\n",
       "  <thead>\n",
       "    <tr style=\"text-align: right;\">\n",
       "      <th></th>\n",
       "      <th>x1</th>\n",
       "      <th>x2</th>\n",
       "    </tr>\n",
       "  </thead>\n",
       "  <tbody>\n",
       "    <tr>\n",
       "      <th>0</th>\n",
       "      <td>0.00</td>\n",
       "      <td>0.00</td>\n",
       "    </tr>\n",
       "    <tr>\n",
       "      <th>1</th>\n",
       "      <td>0.25</td>\n",
       "      <td>0.25</td>\n",
       "    </tr>\n",
       "    <tr>\n",
       "      <th>2</th>\n",
       "      <td>0.50</td>\n",
       "      <td>0.50</td>\n",
       "    </tr>\n",
       "    <tr>\n",
       "      <th>3</th>\n",
       "      <td>0.75</td>\n",
       "      <td>0.75</td>\n",
       "    </tr>\n",
       "    <tr>\n",
       "      <th>4</th>\n",
       "      <td>1.00</td>\n",
       "      <td>1.00</td>\n",
       "    </tr>\n",
       "  </tbody>\n",
       "</table>\n",
       "</div>"
      ],
      "text/plain": [
       "     x1    x2\n",
       "0  0.00  0.00\n",
       "1  0.25  0.25\n",
       "2  0.50  0.50\n",
       "3  0.75  0.75\n",
       "4  1.00  1.00"
      ]
     },
     "execution_count": 21,
     "metadata": {},
     "output_type": "execute_result"
    }
   ],
   "source": [
    "pd.DataFrame(scaled, columns=['x1', 'x2'])"
   ]
  },
  {
   "cell_type": "markdown",
   "id": "59154a3b-1863-4b0f-a06b-11e25c448200",
   "metadata": {},
   "source": [
    "## StandardScaler 로 표준화 하기"
   ]
  },
  {
   "cell_type": "code",
   "execution_count": 23,
   "id": "a68d82ba-6f31-4c05-9f41-893f285a3c7e",
   "metadata": {},
   "outputs": [],
   "source": [
    "from sklearn.preprocessing import StandardScaler"
   ]
  },
  {
   "cell_type": "code",
   "execution_count": 25,
   "id": "e7411c16-afed-478e-858a-0a09a8485777",
   "metadata": {},
   "outputs": [
    {
     "data": {
      "text/html": [
       "<div>\n",
       "<style scoped>\n",
       "    .dataframe tbody tr th:only-of-type {\n",
       "        vertical-align: middle;\n",
       "    }\n",
       "\n",
       "    .dataframe tbody tr th {\n",
       "        vertical-align: top;\n",
       "    }\n",
       "\n",
       "    .dataframe thead th {\n",
       "        text-align: right;\n",
       "    }\n",
       "</style>\n",
       "<table border=\"1\" class=\"dataframe\">\n",
       "  <thead>\n",
       "    <tr style=\"text-align: right;\">\n",
       "      <th></th>\n",
       "      <th>x1</th>\n",
       "      <th>x2</th>\n",
       "    </tr>\n",
       "  </thead>\n",
       "  <tbody>\n",
       "    <tr>\n",
       "      <th>0</th>\n",
       "      <td>-1.414214</td>\n",
       "      <td>-1.414214</td>\n",
       "    </tr>\n",
       "    <tr>\n",
       "      <th>1</th>\n",
       "      <td>-0.707107</td>\n",
       "      <td>-0.707107</td>\n",
       "    </tr>\n",
       "    <tr>\n",
       "      <th>2</th>\n",
       "      <td>0.000000</td>\n",
       "      <td>0.000000</td>\n",
       "    </tr>\n",
       "    <tr>\n",
       "      <th>3</th>\n",
       "      <td>0.707107</td>\n",
       "      <td>0.707107</td>\n",
       "    </tr>\n",
       "    <tr>\n",
       "      <th>4</th>\n",
       "      <td>1.414214</td>\n",
       "      <td>1.414214</td>\n",
       "    </tr>\n",
       "  </tbody>\n",
       "</table>\n",
       "</div>"
      ],
      "text/plain": [
       "         x1        x2\n",
       "0 -1.414214 -1.414214\n",
       "1 -0.707107 -0.707107\n",
       "2  0.000000  0.000000\n",
       "3  0.707107  0.707107\n",
       "4  1.414214  1.414214"
      ]
     },
     "execution_count": 25,
     "metadata": {},
     "output_type": "execute_result"
    }
   ],
   "source": [
    "ss_scaler = StandardScaler()\n",
    "scaled = ss_scaler.fit_transform(x)\n",
    "pd.DataFrame(scaled, columns=['x1','x2'])"
   ]
  },
  {
   "cell_type": "markdown",
   "id": "8107035a-2a27-4ffa-bab7-f300045455b4",
   "metadata": {},
   "source": [
    "## 범위와 사분위 범위 계산하기"
   ]
  },
  {
   "cell_type": "code",
   "execution_count": 26,
   "id": "00f28437-0f00-4eaa-b9fc-153f4157fb5a",
   "metadata": {},
   "outputs": [],
   "source": [
    "import numpy as np"
   ]
  },
  {
   "cell_type": "code",
   "execution_count": 27,
   "id": "2bb416e7-b711-48c0-aaa0-ba773a196745",
   "metadata": {},
   "outputs": [],
   "source": [
    "x = np.random.normal(100, 20, size = 1000)"
   ]
  },
  {
   "cell_type": "code",
   "execution_count": 28,
   "id": "9f2e40de-bc66-4b98-8f1c-edf55d4c8b62",
   "metadata": {},
   "outputs": [],
   "source": [
    "# x(소문자) : 걸림이 1개일경우\n",
    "#X(대문자) : 걸림이 2개이상일 경우"
   ]
  },
  {
   "cell_type": "markdown",
   "id": "8e7d6815-a2e0-4c0b-a818-4a8e89c85569",
   "metadata": {},
   "source": [
    "## 범위 계산"
   ]
  },
  {
   "cell_type": "markdown",
   "id": "e5441aa0-6302-4120-a71b-0e1a18b3b35e",
   "metadata": {},
   "source": [
    "- m : 문자 셀로 변환\n",
    "- y : 코드셀로 변환"
   ]
  },
  {
   "cell_type": "code",
   "execution_count": 30,
   "id": "bf6932b5-f35a-4467-b5c0-c8ce870986f3",
   "metadata": {},
   "outputs": [
    {
     "name": "stdout",
     "output_type": "stream",
     "text": [
      "126.86180318311222\n",
      "126.86180318311222\n"
     ]
    }
   ],
   "source": [
    "print(np.ptp(x))\n",
    "print(np.max(x) - np.min(x))"
   ]
  },
  {
   "cell_type": "code",
   "execution_count": 39,
   "id": "2978d06e-c272-458c-903b-c71f704bf4de",
   "metadata": {},
   "outputs": [
    {
     "name": "stdout",
     "output_type": "stream",
     "text": [
      "24.89198469431699\n"
     ]
    }
   ],
   "source": [
    "print(np.quantile(x, 0.75) - np.quantile(x, 0.25))\n"
   ]
  },
  {
   "cell_type": "code",
   "execution_count": 40,
   "id": "464a86d9-e198-43e7-b22d-4769ab97254b",
   "metadata": {},
   "outputs": [
    {
     "ename": "SyntaxError",
     "evalue": "invalid syntax (249528493.py, line 1)",
     "output_type": "error",
     "traceback": [
      "\u001b[1;36m  Cell \u001b[1;32mIn[40], line 1\u001b[1;36m\u001b[0m\n\u001b[1;33m    import scipy import stats as st\u001b[0m\n\u001b[1;37m                 ^\u001b[0m\n\u001b[1;31mSyntaxError\u001b[0m\u001b[1;31m:\u001b[0m invalid syntax\n"
     ]
    }
   ],
   "source": [
    "import scipy import stats as st\n",
    "print(st.iqr(x))"
   ]
  },
  {
   "cell_type": "code",
   "execution_count": null,
   "id": "b16706b0-11b5-4a3b-b0a7-f0df02c0303f",
   "metadata": {},
   "outputs": [],
   "source": []
  }
 ],
 "metadata": {
  "kernelspec": {
   "display_name": "eda_env",
   "language": "python",
   "name": "eda_env"
  },
  "language_info": {
   "codemirror_mode": {
    "name": "ipython",
    "version": 3
   },
   "file_extension": ".py",
   "mimetype": "text/x-python",
   "name": "python",
   "nbconvert_exporter": "python",
   "pygments_lexer": "ipython3",
   "version": "3.10.18"
  }
 },
 "nbformat": 4,
 "nbformat_minor": 5
}
