{
 "cells": [
  {
   "cell_type": "markdown",
   "id": "ecb6c654-0879-4c1c-b0c7-06b310ed4037",
   "metadata": {},
   "source": [
    "#  단일표본 t검정"
   ]
  },
  {
   "cell_type": "markdown",
   "id": "c2d119ce-d318-4d91-ba51-0f0b8f4f52ae",
   "metadata": {},
   "source": [
    "[문제]\n",
    "- 성인여성 30명의 키 데이터\n",
    "- 평균, 표준편차 계산\n",
    "- ks-정규성 검정 실행\n",
    "- 임이의 어떤 값 163은 평균 값에 근사할까?"
   ]
  },
  {
   "cell_type": "code",
   "execution_count": 5,
   "id": "e24d91c8-dafb-470c-8bf1-94e68207f537",
   "metadata": {},
   "outputs": [
    {
     "name": "stdout",
     "output_type": "stream",
     "text": [
      "[150.27, 142.94, 160.99, 157.48, 153.46, 137.5, 154.94, 159.51, 171.87, 143.69, 153.65, 160.25, 153.07, 154.42, 141.21, 154.17, 162.56, 164.44, 172.36, 141.51, 169.4, 167.97, 170.26, 157.8, 167.61]\n",
      "[150.27, 142.94, 160.99, 157.48, 153.46, 137.5, 154.94, 159.51, 171.87, 143.69, 153.65, 160.25, 153.07, 154.42, 141.21, 154.17, 162.56, 164.44, 172.36, 141.51, 169.4, 167.97, 170.26, 157.8, 167.61]\n"
     ]
    }
   ],
   "source": [
    "# data 로딩\n",
    "with open(\"./datas2/성인여성_키_데이터.txt\",\"r\") as f:\n",
    "    data = f.read().split(\"\\n\")\n",
    "    data = map(float,data) #리스트 요소가 문자열\n",
    "    data = list(data)\n",
    "    print(data)\n",
    "    print(list(data))#map 함수의 결과를 list로 형변환 -> 출력\n",
    "    "
   ]
  },
  {
   "cell_type": "code",
   "execution_count": 6,
   "id": "422d12f9-0d08-4456-864b-23e633bf3d82",
   "metadata": {},
   "outputs": [
    {
     "data": {
      "text/plain": [
       "(np.float64(156.9332), np.float64(9.974187774450611))"
      ]
     },
     "execution_count": 6,
     "metadata": {},
     "output_type": "execute_result"
    }
   ],
   "source": [
    "# 데이터의 평균과 표준편차 구하기\n",
    "\n",
    "import numpy as np\n",
    "mean_value = np.mean(data)\n",
    "#표준편차\n",
    "std_dev = np.std(data, ddof=0) #모집단의 표준 편차\n",
    "mean_value,std_dev"
   ]
  },
  {
   "cell_type": "markdown",
   "id": "afbda839-dfe5-4b66-9155-8439fea6c2ff",
   "metadata": {},
   "source": [
    "## 정규성 검사(kd-test)"
   ]
  },
  {
   "cell_type": "code",
   "execution_count": 10,
   "id": "7ac54409-9334-42da-9a60-8a3f5e765a9d",
   "metadata": {},
   "outputs": [],
   "source": [
    "from scipy.stats import *#stats 모듈의 모든 함수 및 클래스를 로딩\n",
    "# from scipy import stats\n",
    "import numpy as np\n"
   ]
  },
  {
   "cell_type": "code",
   "execution_count": 14,
   "id": "4bd41731-8fa4-43de-a51c-ceb93e1ff085",
   "metadata": {},
   "outputs": [
    {
     "data": {
      "text/plain": [
       "(np.float64(0.10925974986314058), np.float64(0.8950958424230889))"
      ]
     },
     "execution_count": 14,
     "metadata": {},
     "output_type": "execute_result"
    }
   ],
   "source": [
    "# 정규성 검정 함수\n",
    "ks_stats, p_value = kstest(data, 'norm', args=(mean_value, std_dev))\n",
    "ks_stats, p_value"
   ]
  },
  {
   "cell_type": "code",
   "execution_count": null,
   "id": "01418d5b-a90a-4d86-93c9-dd95167e5b8c",
   "metadata": {},
   "outputs": [],
   "source": []
  }
 ],
 "metadata": {
  "kernelspec": {
   "display_name": "eda_env",
   "language": "python",
   "name": "eda_env"
  },
  "language_info": {
   "codemirror_mode": {
    "name": "ipython",
    "version": 3
   },
   "file_extension": ".py",
   "mimetype": "text/x-python",
   "name": "python",
   "nbconvert_exporter": "python",
   "pygments_lexer": "ipython3",
   "version": "3.10.18"
  }
 },
 "nbformat": 4,
 "nbformat_minor": 5
}
