{
 "cells": [
  {
   "cell_type": "markdown",
   "id": "ecb6c654-0879-4c1c-b0c7-06b310ed4037",
   "metadata": {},
   "source": [
    "#  단일표본 t검정"
   ]
  },
  {
   "cell_type": "markdown",
   "id": "c2d119ce-d318-4d91-ba51-0f0b8f4f52ae",
   "metadata": {},
   "source": [
    "[문제]\n",
    "- 성인여성 30명의 키 데이터\n",
    "- 평균, 표준편차 계산\n",
    "- ks-정규성 검정 실행\n",
    "- 임이의 어떤 값 163은 평균 값에 근사할까?"
   ]
  },
  {
   "cell_type": "code",
   "execution_count": 1,
   "id": "7312dcaf-f440-4de9-84f6-bf9c53e03227",
   "metadata": {},
   "outputs": [],
   "source": [
    "import warnings\n",
    "warnings.filterwarnings(\"ignore\", category=DeprecationWarning)\n"
   ]
  },
  {
   "cell_type": "code",
   "execution_count": 2,
   "id": "e24d91c8-dafb-470c-8bf1-94e68207f537",
   "metadata": {},
   "outputs": [
    {
     "name": "stdout",
     "output_type": "stream",
     "text": [
      "[150.27, 142.94, 160.99, 157.48, 153.46, 137.5, 154.94, 159.51, 171.87, 143.69, 153.65, 160.25, 153.07, 154.42, 141.21, 154.17, 162.56, 164.44, 172.36, 141.51, 169.4, 167.97, 170.26, 157.8, 167.61]\n",
      "[150.27, 142.94, 160.99, 157.48, 153.46, 137.5, 154.94, 159.51, 171.87, 143.69, 153.65, 160.25, 153.07, 154.42, 141.21, 154.17, 162.56, 164.44, 172.36, 141.51, 169.4, 167.97, 170.26, 157.8, 167.61]\n"
     ]
    }
   ],
   "source": [
    "# data 로딩\n",
    "with open(\"./datas2/성인여성_키_데이터.txt\",\"r\") as f:\n",
    "    data = f.read().split(\"\\n\")\n",
    "    data = map(float,data) #리스트 요소가 문자열\n",
    "    data = list(data)\n",
    "    print(data)\n",
    "    print(list(data))#map 함수의 결과를 list로 형변환 -> 출력\n",
    "    "
   ]
  },
  {
   "cell_type": "markdown",
   "id": "dac73661-c8bc-49a8-ad51-fce394b4308e",
   "metadata": {},
   "source": [
    "## 가설 설정\n",
    "- H0 : 표본 데이터의 평균은 163과 같다.\n",
    "- H1 : 표본 데이터의 평균은 163과 다르다."
   ]
  },
  {
   "cell_type": "code",
   "execution_count": 3,
   "id": "422d12f9-0d08-4456-864b-23e633bf3d82",
   "metadata": {},
   "outputs": [
    {
     "data": {
      "text/plain": [
       "(np.float64(156.9332), np.float64(9.974187774450611))"
      ]
     },
     "execution_count": 3,
     "metadata": {},
     "output_type": "execute_result"
    }
   ],
   "source": [
    "# 데이터의 평균과 표준편차 구하기\n",
    "\n",
    "import numpy as np\n",
    "mean_value = np.mean(data)\n",
    "#표준편차\n",
    "std_dev = np.std(data, ddof=0) #모집단의 표준 편차\n",
    "mean_value,std_dev"
   ]
  },
  {
   "cell_type": "markdown",
   "id": "afbda839-dfe5-4b66-9155-8439fea6c2ff",
   "metadata": {},
   "source": [
    "## 정규성 검사(kS-test)"
   ]
  },
  {
   "cell_type": "code",
   "execution_count": 4,
   "id": "7ac54409-9334-42da-9a60-8a3f5e765a9d",
   "metadata": {},
   "outputs": [],
   "source": [
    "  #stats 모듈의 모든 함수 및 클래스를 로딩\n",
    "# from scipy import stats\n",
    "import numpy as np\n"
   ]
  },
  {
   "cell_type": "code",
   "execution_count": 5,
   "id": "4bd41731-8fa4-43de-a51c-ceb93e1ff085",
   "metadata": {
    "scrolled": true
   },
   "outputs": [
    {
     "data": {
      "text/plain": [
       "(np.float64(0.10925974986314058), np.float64(0.8950958424230889))"
      ]
     },
     "execution_count": 5,
     "metadata": {},
     "output_type": "execute_result"
    }
   ],
   "source": [
    "# 정규성 검정 함수\n",
    "ks_stats, p_value = kstest(data, 'norm', args=(mean_value, std_dev))\n",
    "ks_stats, p_value"
   ]
  },
  {
   "cell_type": "markdown",
   "id": "4fdeae32-dfb4-4083-bfe4-5887e8dba522",
   "metadata": {},
   "source": [
    "# 단일표본 T검정 하기"
   ]
  },
  {
   "cell_type": "code",
   "execution_count": 6,
   "id": "21f05555-0551-49d3-9d36-b76babb4c8ee",
   "metadata": {},
   "outputs": [
    {
     "data": {
      "text/plain": [
       "TtestResult(statistic=np.float64(-2.979804412662668), pvalue=np.float64(0.006510445335847954), df=np.int64(24))"
      ]
     },
     "execution_count": 6,
     "metadata": {},
     "output_type": "execute_result"
    }
   ],
   "source": [
    "ttest_1samp(data, 163)"
   ]
  },
  {
   "cell_type": "markdown",
   "id": "e9af8cce-ad35-4dd0-8030-0ccc3622d625",
   "metadata": {},
   "source": [
    "# 독립 표본 t검정\n",
    "- 두 그룹 A, B의 차이를 검증 할 때 사용하는 검증 방법"
   ]
  },
  {
   "cell_type": "code",
   "execution_count": 7,
   "id": "fed222e8-6950-43f7-940c-c8f41aec262a",
   "metadata": {},
   "outputs": [],
   "source": [
    "# 문제 : A,B반의 점수 차이가 있늕 검증하기\n",
    "# [가설 설정]\n",
    "# H0 : A반과 B반의 평균은 같다.\n",
    "# H1 : A반과 B반의 평균은 다르다."
   ]
  },
  {
   "cell_type": "code",
   "execution_count": 8,
   "id": "9ba60c4a-dbec-4da8-9b05-e7ca9d602b52",
   "metadata": {},
   "outputs": [],
   "source": [
    "import pandas as pd\n",
    "from scipy.stats import kstest\n",
    "import numpy as np\n",
    "\n"
   ]
  },
  {
   "cell_type": "code",
   "execution_count": 9,
   "id": "5e56ff2f-92e4-4397-a5d0-ad290c847de9",
   "metadata": {},
   "outputs": [
    {
     "data": {
      "text/html": [
       "<div>\n",
       "<style scoped>\n",
       "    .dataframe tbody tr th:only-of-type {\n",
       "        vertical-align: middle;\n",
       "    }\n",
       "\n",
       "    .dataframe tbody tr th {\n",
       "        vertical-align: top;\n",
       "    }\n",
       "\n",
       "    .dataframe thead th {\n",
       "        text-align: right;\n",
       "    }\n",
       "</style>\n",
       "<table border=\"1\" class=\"dataframe\">\n",
       "  <thead>\n",
       "    <tr style=\"text-align: right;\">\n",
       "      <th></th>\n",
       "      <th>반</th>\n",
       "      <th>점수</th>\n",
       "    </tr>\n",
       "  </thead>\n",
       "  <tbody>\n",
       "    <tr>\n",
       "      <th>25</th>\n",
       "      <td>B</td>\n",
       "      <td>77</td>\n",
       "    </tr>\n",
       "    <tr>\n",
       "      <th>26</th>\n",
       "      <td>B</td>\n",
       "      <td>75</td>\n",
       "    </tr>\n",
       "    <tr>\n",
       "      <th>27</th>\n",
       "      <td>B</td>\n",
       "      <td>65</td>\n",
       "    </tr>\n",
       "    <tr>\n",
       "      <th>28</th>\n",
       "      <td>B</td>\n",
       "      <td>61</td>\n",
       "    </tr>\n",
       "    <tr>\n",
       "      <th>29</th>\n",
       "      <td>B</td>\n",
       "      <td>55</td>\n",
       "    </tr>\n",
       "  </tbody>\n",
       "</table>\n",
       "</div>"
      ],
      "text/plain": [
       "    반  점수\n",
       "25  B  77\n",
       "26  B  75\n",
       "27  B  65\n",
       "28  B  61\n",
       "29  B  55"
      ]
     },
     "execution_count": 9,
     "metadata": {},
     "output_type": "execute_result"
    }
   ],
   "source": [
    "df1 = pd.read_csv(\"./datas2/반별_점수_type1.csv\", encoding = \"euc-kr\")\n",
    "df1.tail()"
   ]
  },
  {
   "cell_type": "code",
   "execution_count": 10,
   "id": "124c75be-d58f-46cb-a52b-261695906863",
   "metadata": {},
   "outputs": [
    {
     "data": {
      "text/plain": [
       "반\n",
       "A    20\n",
       "B    10\n",
       "Name: count, dtype: int64"
      ]
     },
     "execution_count": 10,
     "metadata": {},
     "output_type": "execute_result"
    }
   ],
   "source": [
    "# 데이터프레임에서 반 컬럼의 유니크한 값의 갯수 확인\n",
    "df1['반'].value_counts()"
   ]
  },
  {
   "cell_type": "markdown",
   "id": "396e05b4-2511-4f9a-bfbf-72ee0526b91e",
   "metadata": {},
   "source": [
    "### A반, B반 데이터 분리하기"
   ]
  },
  {
   "cell_type": "code",
   "execution_count": 11,
   "id": "f98f8e0b-932c-4569-ac8c-b294c106b906",
   "metadata": {},
   "outputs": [
    {
     "data": {
      "text/plain": [
       "20"
      ]
     },
     "execution_count": 11,
     "metadata": {},
     "output_type": "execute_result"
    }
   ],
   "source": [
    "# A반의 점수만 추출\n",
    "groupA = df1['점수'].loc[df1['반']=='A'].values\n",
    "len(groupA)"
   ]
  },
  {
   "cell_type": "code",
   "execution_count": 12,
   "id": "316d2433-8efd-4c3a-baf6-2b148e409603",
   "metadata": {},
   "outputs": [
    {
     "data": {
      "text/plain": [
       "10"
      ]
     },
     "execution_count": 12,
     "metadata": {},
     "output_type": "execute_result"
    }
   ],
   "source": [
    "groupB = df1['점수'].loc[df1['반']=='B'].values\n",
    "len(groupB)"
   ]
  },
  {
   "cell_type": "code",
   "execution_count": 13,
   "id": "44e234ee-c740-4446-99aa-04ecaa5c97a6",
   "metadata": {},
   "outputs": [
    {
     "data": {
      "text/plain": [
       "(np.float64(70.55), np.float64(5.67983506061483))"
      ]
     },
     "execution_count": 13,
     "metadata": {},
     "output_type": "execute_result"
    }
   ],
   "source": [
    "# A반의 평균과 표준편차\n",
    "meanA = np.mean(groupA)\n",
    "stdA = np.std(groupA, ddof=1)\n",
    "meanA,stdA"
   ]
  },
  {
   "cell_type": "code",
   "execution_count": 14,
   "id": "f95e1840-9d90-4fc1-bd52-ca6e33a44e4d",
   "metadata": {},
   "outputs": [
    {
     "data": {
      "text/plain": [
       "(np.float64(64.1), np.float64(8.279157230325104))"
      ]
     },
     "execution_count": 14,
     "metadata": {},
     "output_type": "execute_result"
    }
   ],
   "source": [
    "#B반의 평균과 표준 편차\n",
    "meanB = np.mean(groupB)\n",
    "stdB = np.std(groupB, ddof=1)\n",
    "meanB, stdB"
   ]
  },
  {
   "cell_type": "code",
   "execution_count": 15,
   "id": "a8918b79-a82e-4257-9b55-a8849b206480",
   "metadata": {},
   "outputs": [
    {
     "name": "stdout",
     "output_type": "stream",
     "text": [
      "A반 평균: 70.55, 표준 편차: 5.68\n",
      "B반 평균: 64.10, 표준 편차: 8.28\n"
     ]
    }
   ],
   "source": [
    "# 결과 출력\n",
    "print(f\"A반 평균: {meanA:.2f}, 표준 편차: {stdA:.2f}\")\n",
    "print(f\"B반 평균: {meanB:.2f}, 표준 편차: {stdB:.2f}\")"
   ]
  },
  {
   "cell_type": "markdown",
   "id": "a93683b8-1a07-4e5a-83ff-e22cfbe913b4",
   "metadata": {},
   "source": [
    "### 정규성 검정"
   ]
  },
  {
   "cell_type": "code",
   "execution_count": 22,
   "id": "ded47504-4c4c-4af4-ade1-e47e9bbe6bfe",
   "metadata": {
    "scrolled": true
   },
   "outputs": [
    {
     "name": "stdout",
     "output_type": "stream",
     "text": [
      "KstestResult(statistic=np.float64(0.13310674849448567), pvalue=np.float64(0.8254564220619713), statistic_location=np.int64(73), statistic_sign=np.int8(1))\n",
      "KstestResult(statistic=np.float64(0.15881009358601705), pvalue=np.float64(0.9295432555006241), statistic_location=np.int64(73), statistic_sign=np.int8(-1))\n"
     ]
    }
   ],
   "source": [
    "# group_A와 group_B의 평균과 표준편차를 사용하여 정규성 검정 수행\n",
    "print(stats.kstest(groupA, 'norm', args=(np.mean(groupA), np.std(groupA, ddof=1))))\n",
    "print(stats.kstest(groupB, 'norm', args=(np.mean(groupB), np.std(groupB, ddof=1))))"
   ]
  },
  {
   "cell_type": "markdown",
   "id": "d38fac89-8eb5-4a2d-8ae9-f5bc41ce13e7",
   "metadata": {},
   "source": [
    "### 등분산 검정\n",
    "- 그룸A와 그룹 B가 가은 분산 인지 확인하기 위해 levene()검정 사용"
   ]
  },
  {
   "cell_type": "code",
   "execution_count": 18,
   "id": "ac4a0a4b-8c14-41e0-8b37-0217a1ce93e0",
   "metadata": {},
   "outputs": [
    {
     "data": {
      "text/plain": [
       "LeveneResult(statistic=np.float64(2.033067087400979), pvalue=np.float64(0.16496408622210104))"
      ]
     },
     "execution_count": 18,
     "metadata": {},
     "output_type": "execute_result"
    }
   ],
   "source": [
    "levene(groupA, groupB)"
   ]
  },
  {
   "cell_type": "code",
   "execution_count": 19,
   "id": "53433b00-44f5-47f3-bc61-7f51203a5263",
   "metadata": {},
   "outputs": [
    {
     "data": {
      "text/plain": [
       "np.float64(32.26052631578948)"
      ]
     },
     "execution_count": 19,
     "metadata": {},
     "output_type": "execute_result"
    }
   ],
   "source": [
    "# A의 분산 구하기\n",
    "np.var(groupA,ddof=1)"
   ]
  },
  {
   "cell_type": "code",
   "execution_count": 20,
   "id": "1019df99-22be-4303-81da-aac1e0ad25ea",
   "metadata": {},
   "outputs": [
    {
     "data": {
      "text/plain": [
       "np.float64(68.54444444444445)"
      ]
     },
     "execution_count": 20,
     "metadata": {},
     "output_type": "execute_result"
    }
   ],
   "source": [
    "# B의 분산\n",
    "np.var(groupB,ddof=1)"
   ]
  },
  {
   "cell_type": "code",
   "execution_count": 21,
   "id": "31a2c300-20ea-46fb-86ae-f11c92106ace",
   "metadata": {},
   "outputs": [
    {
     "name": "stdout",
     "output_type": "stream",
     "text": [
      "TtestResult(statistic=np.float64(2.5128526794964134), pvalue=np.float64(0.01801095352893767), df=np.float64(28.0))\n"
     ]
    }
   ],
   "source": [
    "print(ttest_ind(groupA, groupB, equal_var= True))"
   ]
  },
  {
   "cell_type": "markdown",
   "id": "542b55b5-ed2d-48b8-9ccd-8a1aba58c5da",
   "metadata": {},
   "source": [
    "# 비즈니스 상황에서 적용\n",
    "- 단일표본 -t검정, 독립표본 t-검정 관심 도메인에서 사용 예시 1개씩 찾아서 공유하기"
   ]
  },
  {
   "cell_type": "code",
   "execution_count": null,
   "id": "4df788ba-53f8-4147-8b9f-b7f789e2f862",
   "metadata": {},
   "outputs": [],
   "source": []
  }
 ],
 "metadata": {
  "kernelspec": {
   "display_name": "eda_env",
   "language": "python",
   "name": "eda_env"
  },
  "language_info": {
   "codemirror_mode": {
    "name": "ipython",
    "version": 3
   },
   "file_extension": ".py",
   "mimetype": "text/x-python",
   "name": "python",
   "nbconvert_exporter": "python",
   "pygments_lexer": "ipython3",
   "version": "3.10.18"
  }
 },
 "nbformat": 4,
 "nbformat_minor": 5
}
