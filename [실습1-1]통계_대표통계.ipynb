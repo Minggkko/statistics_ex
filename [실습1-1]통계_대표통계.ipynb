{
 "cells": [
  {
   "cell_type": "markdown",
   "id": "d03003c3-c5f3-4f57-b439-7f9ee8cc5a4c",
   "metadata": {},
   "source": [
    "대표 통계량"
   ]
  },
  {
   "cell_type": "code",
   "execution_count": 2,
   "id": "624c8b22-2d71-4223-b0ba-d6891a0b749f",
   "metadata": {},
   "outputs": [],
   "source": [
    "import numpy as np\n",
    "from scipy import stats\n",
    "import pandas as pd"
   ]
  },
  {
   "cell_type": "markdown",
   "id": "3f873da4-bd08-4159-a3d6-c5bea25f3a0c",
   "metadata": {},
   "source": [
    "## 산술평균 계산"
   ]
  },
  {
   "cell_type": "code",
   "execution_count": 8,
   "id": "42dac84c-0735-47d5-98d0-83a39e739efc",
   "metadata": {},
   "outputs": [
    {
     "name": "stdout",
     "output_type": "stream",
     "text": [
      "64.0\n",
      "64.0\n"
     ]
    }
   ],
   "source": [
    "# 성적 평균 구하기\n",
    "x = [70, 60, 80, 60, 50]\n",
    "#sum(x)/len(x)\n",
    "print(np.sum(x)/len(x))\n",
    "#print(np.array(x).mean())\n",
    "print(pd.Series(x).mean())"
   ]
  },
  {
   "cell_type": "markdown",
   "id": "8365bf48-6620-4156-aeaa-3ca3b6a76544",
   "metadata": {},
   "source": [
    "조화평균 구하기"
   ]
  },
  {
   "cell_type": "code",
   "execution_count": 10,
   "id": "0ef4e8af-7e44-4490-8756-6e3174b59275",
   "metadata": {},
   "outputs": [],
   "source": [
    "# 상황: 두 생산 라인이 동일한 수의 제품(작업량)을 생산하지만, \n",
    "# 각 라인의 처리 속도가 다를 때 평균 처리 속도를 계산하기\n",
    "\n",
    "# 라인 A: 60개/시간, 라인 B: 30개/시간  \n",
    "# → 동일 작업량(120개 제품 생산) 처리 시 평균 처리속도"
   ]
  },
  {
   "cell_type": "code",
   "execution_count": 11,
   "id": "e37913f2-145d-49db-aee2-93a469e2de4b",
   "metadata": {},
   "outputs": [
    {
     "name": "stdout",
     "output_type": "stream",
     "text": [
      "47.99999999999999\n",
      "47.99999999999999\n",
      "47.99999999999999\n"
     ]
    }
   ],
   "source": [
    "x = np.array([60, 40])\n",
    "print(len(x) / (1/60 + 1/40))\n",
    "print(len(x) / np.sum(1/x))\n",
    "print(stats.hmean(x))"
   ]
  },
  {
   "cell_type": "markdown",
   "id": "df9558f5-6dba-478a-af31-90198c32c966",
   "metadata": {},
   "source": [
    "# 절사평균 계산"
   ]
  },
  {
   "cell_type": "markdown",
   "id": "d90487a7-99cd-4a92-8ed3-8fb00f9b6873",
   "metadata": {},
   "source": []
  },
  {
   "cell_type": "markdown",
   "id": "c983d8a2-4e4c-4b53-bc96-c5f819235eba",
   "metadata": {},
   "source": [
    "# 최빈값 계산"
   ]
  },
  {
   "cell_type": "code",
   "execution_count": 14,
   "id": "d5b891fd-bfbc-4ec1-a6cb-dbab9feb45a8",
   "metadata": {},
   "outputs": [
    {
     "data": {
      "text/plain": [
       "1000"
      ]
     },
     "execution_count": 14,
     "metadata": {},
     "output_type": "execute_result"
    }
   ],
   "source": [
    "x = np.random.choice(['A','B','c'],1000)\n",
    "x[:5]\n",
    "len(x)"
   ]
  },
  {
   "cell_type": "code",
   "execution_count": 15,
   "id": "e6d382fc-c7f1-4e11-a945-de7144dc8f77",
   "metadata": {},
   "outputs": [
    {
     "data": {
      "text/plain": [
       "array(['A', 'B', 'c'], dtype='<U1')"
      ]
     },
     "execution_count": 15,
     "metadata": {},
     "output_type": "execute_result"
    }
   ],
   "source": [
    "np.unique(x)"
   ]
  },
  {
   "cell_type": "code",
   "execution_count": 16,
   "id": "e2b98033-018b-4ac0-9a86-2acd300036be",
   "metadata": {},
   "outputs": [
    {
     "data": {
      "text/plain": [
       "'A'"
      ]
     },
     "execution_count": 16,
     "metadata": {},
     "output_type": "execute_result"
    }
   ],
   "source": [
    "pd.Series(x).value_counts().index[0]"
   ]
  },
  {
   "cell_type": "code",
   "execution_count": 22,
   "id": "1cf5c1c9-fd39-4b40-aa0a-2c030a5de539",
   "metadata": {},
   "outputs": [
    {
     "name": "stdout",
     "output_type": "stream",
     "text": [
      "최빈값 : A, 최빈갯수 : 357\n"
     ]
    }
   ],
   "source": [
    "# python colletion 사용\n",
    "from collections import Counter\n",
    "# print(dict(Counter(x)))\n",
    "counter = Counter(x)\n",
    "mode_value, mode_cnt = counter.most_common(1)[0]\n",
    "print(f\"최빈값 : {mode_value}, 최빈갯수 : {mode_cnt}\")"
   ]
  },
  {
   "cell_type": "markdown",
   "id": "bdb07e32-610d-45f2-97ed-21510bce487c",
   "metadata": {},
   "source": [
    "# 데이터의 대표값"
   ]
  },
  {
   "cell_type": "code",
   "execution_count": 23,
   "id": "b6abb70e-d081-407b-8574-d57ab2fc163f",
   "metadata": {},
   "outputs": [],
   "source": [
    "# 평균, 중앙값, 최빈갑 구하기"
   ]
  },
  {
   "cell_type": "code",
   "execution_count": 41,
   "id": "6493a309-ff07-4c0e-b93c-70b851691b90",
   "metadata": {},
   "outputs": [
    {
     "data": {
      "text/plain": [
       "array([0, 0, 0, 1, 1, 2, 3, 3, 4, 4], dtype=int32)"
      ]
     },
     "execution_count": 41,
     "metadata": {},
     "output_type": "execute_result"
    }
   ],
   "source": [
    "# 데이터 생성\n",
    "np.random.seed(2024)\n",
    "data = np.random.randint(0,5,10)\n",
    "data.sort()\n",
    "data"
   ]
  },
  {
   "cell_type": "code",
   "execution_count": null,
   "id": "3a395285-f6c4-4b3c-a095-0b8e571a97a2",
   "metadata": {},
   "outputs": [],
   "source": []
  },
  {
   "cell_type": "code",
   "execution_count": 42,
   "id": "ca75afa7-1fd0-4cce-930f-ec51db1463b2",
   "metadata": {},
   "outputs": [
    {
     "data": {
      "text/plain": [
       "np.float64(1.5)"
      ]
     },
     "execution_count": 42,
     "metadata": {},
     "output_type": "execute_result"
    }
   ],
   "source": [
    "mean = np.mean(data)\n",
    "median_val = np.median(data)\n",
    "median_val"
   ]
  },
  {
   "cell_type": "code",
   "execution_count": 44,
   "id": "1a4ed59f-ab5a-4e08-9e87-9b91508e387a",
   "metadata": {},
   "outputs": [
    {
     "data": {
      "text/plain": [
       "ModeResult(mode=np.int32(0), count=np.int64(3))"
      ]
     },
     "execution_count": 44,
     "metadata": {},
     "output_type": "execute_result"
    }
   ],
   "source": [
    "mode_val = stats.mode(data)\n",
    "mode_val"
   ]
  },
  {
   "cell_type": "code",
   "execution_count": 46,
   "id": "4b899a84-f841-4eb9-8aab-102a74940cc6",
   "metadata": {},
   "outputs": [
    {
     "name": "stdout",
     "output_type": "stream",
     "text": [
      "최빈값 : 0, 최빈갯수3\n"
     ]
    }
   ],
   "source": [
    "print(f\"최빈값 : {mode_val.mode}, 최빈갯수{mode_val.count}\")"
   ]
  }
 ],
 "metadata": {
  "kernelspec": {
   "display_name": "eda_env",
   "language": "python",
   "name": "eda_env"
  },
  "language_info": {
   "codemirror_mode": {
    "name": "ipython",
    "version": 3
   },
   "file_extension": ".py",
   "mimetype": "text/x-python",
   "name": "python",
   "nbconvert_exporter": "python",
   "pygments_lexer": "ipython3",
   "version": "3.10.18"
  }
 },
 "nbformat": 4,
 "nbformat_minor": 5
}
